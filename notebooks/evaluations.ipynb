{
 "cells": [
  {
   "cell_type": "markdown",
   "metadata": {},
   "source": [
    "# Evaluations\n",
    "\n",
    "This notebook is used to produce *baselines* for the GaussianProxy models (data vs data FID / classifier scores / CellProfiler correlations).\n",
    "\n",
    "---"
   ]
  },
  {
   "cell_type": "markdown",
   "metadata": {},
   "source": [
    "# Imports"
   ]
  },
  {
   "cell_type": "code",
   "execution_count": 18,
   "metadata": {},
   "outputs": [],
   "source": [
    "import json\n",
    "import random\n",
    "from pathlib import Path\n",
    "from pprint import pprint\n",
    "from warnings import warn\n",
    "\n",
    "import matplotlib.pyplot as plt\n",
    "import plotly.graph_objects as go\n",
    "import seaborn as sns\n",
    "import torch\n",
    "import torch_fidelity\n",
    "from torch.utils.data import Subset\n",
    "from torchvision.transforms import Compose, ConvertImageDtype, RandomHorizontalFlip, RandomVerticalFlip\n",
    "from tqdm.notebook import tqdm, trange\n",
    "\n",
    "from GaussianProxy.utils.data import RandomRotationSquareSymmetry"
   ]
  },
  {
   "cell_type": "code",
   "execution_count": 19,
   "metadata": {},
   "outputs": [
    {
     "data": {
      "text/plain": [
       "<torch.autograd.grad_mode.set_grad_enabled at 0x7f24e2b21d30>"
      ]
     },
     "execution_count": 19,
     "metadata": {},
     "output_type": "execute_result"
    }
   ],
   "source": [
    "torch.set_grad_enabled(False)"
   ]
  },
  {
   "cell_type": "code",
   "execution_count": 20,
   "metadata": {},
   "outputs": [],
   "source": [
    "sns.set_theme(context=\"paper\")"
   ]
  },
  {
   "cell_type": "markdown",
   "metadata": {},
   "source": [
    "# Dataset"
   ]
  },
  {
   "cell_type": "code",
   "execution_count": 21,
   "metadata": {},
   "outputs": [],
   "source": [
    "from my_conf.dataset.BBBC021_196_docetaxel_inference import BBBC021_196_docetaxel_inference as dataset"
   ]
  },
  {
   "cell_type": "code",
   "execution_count": 22,
   "metadata": {},
   "outputs": [
    {
     "name": "stdout",
     "output_type": "stream",
     "text": [
      "Using dataset BBBC021_196_docetaxel from /projects/static2dynamic/datasets/BBBC021/196x196/docetaxel\n",
      "Using transforms:\n",
      "Compose(\n",
      "    RandomHorizontalFlip(p=0.5)\n",
      "    RandomVerticalFlip(p=0.5)\n",
      "    RandomRotationSquareSymmetry()\n",
      "    ConvertImageDtype()\n",
      ")\n"
     ]
    }
   ],
   "source": [
    "assert dataset.dataset_params is not None\n",
    "database_path = Path(dataset.path)\n",
    "print(f\"Using dataset {dataset.name} from {database_path}\")\n",
    "subdirs: list[Path] = [e for e in database_path.iterdir() if e.is_dir() and not e.name.startswith(\".\")]\n",
    "subdirs.sort(key=dataset.dataset_params.sorting_func)\n",
    "\n",
    "# now split the dataset into 2 non-overlapping parts, respecting classes proportions...\n",
    "# ...and repeat that 10 times to get std of the metric\n",
    "is_flip_or_rotation = lambda t: isinstance(t, (RandomHorizontalFlip, RandomVerticalFlip, RandomRotationSquareSymmetry))\n",
    "flips_rot = [t for t in dataset.transforms.transforms if is_flip_or_rotation(t)]\n",
    "transforms = Compose(flips_rot + [ConvertImageDtype(torch.uint8)])\n",
    "print(f\"Using transforms:\\n{transforms}\")"
   ]
  },
  {
   "cell_type": "code",
   "execution_count": 23,
   "metadata": {},
   "outputs": [],
   "source": [
    "nb_repeats = 10"
   ]
  },
  {
   "cell_type": "code",
   "execution_count": 24,
   "metadata": {},
   "outputs": [
    {
     "data": {
      "application/vnd.jupyter.widget-view+json": {
       "model_id": "605738b4e2254dbdacd3b46ad3bd3c95",
       "version_major": 2,
       "version_minor": 0
      },
      "text/plain": [
       "  0%|          | 0/10 [00:00<?, ?it/s]"
      ]
     },
     "metadata": {},
     "output_type": "display_data"
    },
    {
     "name": "stdout",
     "output_type": "stream",
     "text": [
      "{'exp_rep_0': {'split1': ImageDataset\n",
      "    Number of datapoints: 2394\n",
      "    Expected initial data range: (0, 255),\n",
      "               'split2': ImageDataset\n",
      "    Number of datapoints: 2399\n",
      "    Expected initial data range: (0, 255)},\n",
      " 'exp_rep_1': {'split1': ImageDataset\n",
      "    Number of datapoints: 2394\n",
      "    Expected initial data range: (0, 255),\n",
      "               'split2': ImageDataset\n",
      "    Number of datapoints: 2399\n",
      "    Expected initial data range: (0, 255)},\n",
      " 'exp_rep_2': {'split1': ImageDataset\n",
      "    Number of datapoints: 2394\n",
      "    Expected initial data range: (0, 255),\n",
      "               'split2': ImageDataset\n",
      "    Number of datapoints: 2399\n",
      "    Expected initial data range: (0, 255)},\n",
      " 'exp_rep_3': {'split1': ImageDataset\n",
      "    Number of datapoints: 2394\n",
      "    Expected initial data range: (0, 255),\n",
      "               'split2': ImageDataset\n",
      "    Number of datapoints: 2399\n",
      "    Expected initial data range: (0, 255)},\n",
      " 'exp_rep_4': {'split1': ImageDataset\n",
      "    Number of datapoints: 2394\n",
      "    Expected initial data range: (0, 255),\n",
      "               'split2': ImageDataset\n",
      "    Number of datapoints: 2399\n",
      "    Expected initial data range: (0, 255)},\n",
      " 'exp_rep_5': {'split1': ImageDataset\n",
      "    Number of datapoints: 2394\n",
      "    Expected initial data range: (0, 255),\n",
      "               'split2': ImageDataset\n",
      "    Number of datapoints: 2399\n",
      "    Expected initial data range: (0, 255)},\n",
      " 'exp_rep_6': {'split1': ImageDataset\n",
      "    Number of datapoints: 2394\n",
      "    Expected initial data range: (0, 255),\n",
      "               'split2': ImageDataset\n",
      "    Number of datapoints: 2399\n",
      "    Expected initial data range: (0, 255)},\n",
      " 'exp_rep_7': {'split1': ImageDataset\n",
      "    Number of datapoints: 2394\n",
      "    Expected initial data range: (0, 255),\n",
      "               'split2': ImageDataset\n",
      "    Number of datapoints: 2399\n",
      "    Expected initial data range: (0, 255)},\n",
      " 'exp_rep_8': {'split1': ImageDataset\n",
      "    Number of datapoints: 2394\n",
      "    Expected initial data range: (0, 255),\n",
      "               'split2': ImageDataset\n",
      "    Number of datapoints: 2399\n",
      "    Expected initial data range: (0, 255)},\n",
      " 'exp_rep_9': {'split1': ImageDataset\n",
      "    Number of datapoints: 2394\n",
      "    Expected initial data range: (0, 255),\n",
      "               'split2': ImageDataset\n",
      "    Number of datapoints: 2399\n",
      "    Expected initial data range: (0, 255)}}\n"
     ]
    }
   ],
   "source": [
    "exp_repeats = {}\n",
    "nb_elems_per_class = {}\n",
    "\n",
    "for exp_rep in trange(nb_repeats):\n",
    "    ds1_elems = []\n",
    "    ds2_elems = []\n",
    "    for subdir in subdirs:\n",
    "        this_class_elems = list(subdir.glob(f\"*.{dataset.dataset_params.file_extension}\"))\n",
    "        nb_elems_per_class[subdir.name] = len(this_class_elems)\n",
    "        random.shuffle(this_class_elems)\n",
    "        ds1_elems += this_class_elems[: len(this_class_elems) // 2]\n",
    "        ds2_elems += this_class_elems[len(this_class_elems) // 2 :]\n",
    "\n",
    "    assert abs(len(ds1_elems) - len(ds2_elems)) <= len(subdirs)\n",
    "    ds1 = dataset.dataset_params.dataset_class(\n",
    "        ds1_elems,\n",
    "        transforms,\n",
    "        dataset.expected_initial_data_range,\n",
    "    )\n",
    "    ds2 = dataset.dataset_params.dataset_class(\n",
    "        ds2_elems,\n",
    "        transforms,\n",
    "        dataset.expected_initial_data_range,\n",
    "    )\n",
    "    exp_repeats[f\"exp_rep_{exp_rep}\"] = {\"split1\": ds1, \"split2\": ds2}\n",
    "\n",
    "nb_elems_per_class[\"all_classes\"] = sum(nb_elems_per_class.values())\n",
    "pprint(exp_repeats)"
   ]
  },
  {
   "cell_type": "markdown",
   "metadata": {},
   "source": [
    "# FID"
   ]
  },
  {
   "cell_type": "markdown",
   "metadata": {},
   "source": [
    "## Compute train vs train FIDs"
   ]
  },
  {
   "cell_type": "code",
   "execution_count": 25,
   "metadata": {},
   "outputs": [],
   "source": [
    "def compute_metrics(batch_size: int, metrics_save_path: Path):\n",
    "    eval_metrics = {}\n",
    "\n",
    "    for exp_rep in tqdm(exp_repeats, unit=\"experiment repeat\"):\n",
    "        metrics_dict: dict[str, dict[str, float]] = {}\n",
    "        metrics_dict[\"all_classes\"] = torch_fidelity.calculate_metrics(\n",
    "            input1=exp_repeats[exp_rep][\"split1\"],\n",
    "            input2=exp_repeats[exp_rep][\"split2\"],\n",
    "            cuda=True,\n",
    "            batch_size=batch_size,\n",
    "            isc=True,\n",
    "            fid=True,\n",
    "            prc=True,\n",
    "            verbose=True,\n",
    "            samples_find_deep=True,\n",
    "        )\n",
    "        # per-class\n",
    "        for subdir in subdirs:\n",
    "            ds1_this_cl = Subset(\n",
    "                exp_repeats[exp_rep][\"split1\"], [i for i, e in enumerate(ds1_elems) if e.parent == subdir]\n",
    "            )\n",
    "            ds2_this_cl = Subset(\n",
    "                exp_repeats[exp_rep][\"split2\"], [i for i, e in enumerate(ds2_elems) if e.parent == subdir]\n",
    "            )\n",
    "            if exp_rep == \"exp_rep_0\":\n",
    "                print(f\"Will use {len(ds1_this_cl)} and {len(ds2_this_cl)} elements for splits of class {subdir.name}\")\n",
    "            assert abs(len(ds1_this_cl) - len(ds2_this_cl)) <= 1\n",
    "            assert len(ds1_this_cl) + len(ds2_this_cl) == nb_elems_per_class[subdir.name]\n",
    "            metrics_dict_cl = torch_fidelity.calculate_metrics(\n",
    "                input1=ds1_this_cl,\n",
    "                input2=ds2_this_cl,\n",
    "                cuda=True,\n",
    "                batch_size=batch_size,\n",
    "                isc=True,\n",
    "                fid=True,\n",
    "                prc=True,\n",
    "                verbose=True,\n",
    "            )\n",
    "            metrics_dict[subdir.name] = metrics_dict_cl\n",
    "        eval_metrics[exp_rep] = metrics_dict  # for saving to json\n",
    "\n",
    "    if metrics_save_path.exists():\n",
    "        raise RuntimeError(f\"File {metrics_save_path} already exists, not overwriting\")\n",
    "    if not metrics_save_path.parent.exists():\n",
    "        metrics_save_path.parent.mkdir(parents=True)\n",
    "    with open(metrics_save_path, \"w\") as f:\n",
    "        json.dump(eval_metrics, f)"
   ]
  },
  {
   "cell_type": "code",
   "execution_count": 26,
   "metadata": {},
   "outputs": [],
   "source": [
    "batch_size = 512\n",
    "metrics_save_path = Path(f\"evaluations/{dataset.name}/eval_metrics.json\")"
   ]
  },
  {
   "cell_type": "code",
   "execution_count": 27,
   "metadata": {},
   "outputs": [],
   "source": [
    "recompute = False"
   ]
  },
  {
   "cell_type": "code",
   "execution_count": 28,
   "metadata": {},
   "outputs": [
    {
     "name": "stderr",
     "output_type": "stream",
     "text": [
      "/localtmp/tboyer/.tmpdir/ipykernel_2655881/1716591089.py:11: UserWarning:\n",
      "\n",
      "Will not recompute but load from evaluations/BBBC021_196_docetaxel/eval_metrics.json\n",
      "\n"
     ]
    }
   ],
   "source": [
    "if recompute:\n",
    "    inpt = input(\"Confirm recompute (y/[n]):\")\n",
    "    if inpt != \"y\":\n",
    "        warn(f\"Will not recompute but load from {metrics_save_path}\")\n",
    "        with open(metrics_save_path, \"r\") as f:\n",
    "            eval_metrics = json.load(f)\n",
    "    else:\n",
    "        warn(\"Will recompute\")\n",
    "        compute_metrics(batch_size, metrics_save_path)\n",
    "else:\n",
    "    warn(f\"Will not recompute but load from {metrics_save_path}\")\n",
    "    with open(metrics_save_path, \"r\") as f:\n",
    "        eval_metrics = json.load(f)"
   ]
  },
  {
   "cell_type": "code",
   "execution_count": 29,
   "metadata": {},
   "outputs": [
    {
     "name": "stdout",
     "output_type": "stream",
     "text": [
      "{'exp_rep_0': {'0.0003': {'frechet_inception_distance': 18.95410614252407,\n",
      "                          'inception_score_mean': 1.7253417182143636,\n",
      "                          'inception_score_std': 0.1502877220490709},\n",
      "               '0.001': {'frechet_inception_distance': 24.721903391428157,\n",
      "                         'inception_score_mean': 1.846066338088433,\n",
      "                         'inception_score_std': 0.12441346071587762},\n",
      "               '0.003': {'frechet_inception_distance': 29.460609665640476,\n",
      "                         'inception_score_mean': 1.9080115284417005,\n",
      "                         'inception_score_std': 0.15897472216390227},\n",
      "               '0.01': {'frechet_inception_distance': 31.46903042462452,\n",
      "                        'inception_score_mean': 1.9153092575889328,\n",
      "                        'inception_score_std': 0.23609894635077297},\n",
      "               '0.03': {'frechet_inception_distance': 28.814193530574272,\n",
      "                        'inception_score_mean': 1.6716375304897386,\n",
      "                        'inception_score_std': 0.1576303900581069},\n",
      "               '0.1': {'frechet_inception_distance': 29.35577909421488,\n",
      "                       'inception_score_mean': 1.7833579291606356,\n",
      "                       'inception_score_std': 0.11905414680585333},\n",
      "               '0.3': {'frechet_inception_distance': 28.001348046367525,\n",
      "                       'inception_score_mean': 1.7147780099319487,\n",
      "                       'inception_score_std': 0.17477354991669},\n",
      "               '1.0': {'frechet_inception_distance': 28.358185132103102,\n",
      "                       'inception_score_mean': 1.689509323136209,\n",
      "                       'inception_score_std': 0.12118016711020631},\n",
      "               'all_classes': {'frechet_inception_distance': 5.815758572554586,\n",
      "                               'inception_score_mean': 1.9236791640571458,\n",
      "                               'inception_score_std': 0.048197859061507156}},\n",
      " 'exp_rep_1': {'0.0003': {'frechet_inception_distance': 18.863447090427314,\n",
      "                          'inception_score_mean': 1.74085060616781,\n",
      "                          'inception_score_std': 0.11907525193722057},\n",
      "               '0.001': {'frechet_inception_distance': 24.860038794228416,\n",
      "                         'inception_score_mean': 1.789280091470316,\n",
      "                         'inception_score_std': 0.1378024168987478},\n",
      "               '0.003': {'frechet_inception_distance': 29.617363198848835,\n",
      "                         'inception_score_mean': 1.8655048226430981,\n",
      "                         'inception_score_std': 0.14793565127347974},\n",
      "               '0.01': {'frechet_inception_distance': 31.8054493255963,\n",
      "                        'inception_score_mean': 1.8088293928012142,\n",
      "                        'inception_score_std': 0.15367712885806856},\n",
      "               '0.03': {'frechet_inception_distance': 29.20751624442758,\n",
      "                        'inception_score_mean': 1.7963779078436617,\n",
      "                        'inception_score_std': 0.13456365062426384},\n",
      "               '0.1': {'frechet_inception_distance': 29.42072444736465,\n",
      "                       'inception_score_mean': 1.8112379863079915,\n",
      "                       'inception_score_std': 0.14630575619249322},\n",
      "               '0.3': {'frechet_inception_distance': 27.785643208595033,\n",
      "                       'inception_score_mean': 1.7983092094488284,\n",
      "                       'inception_score_std': 0.168799570440547},\n",
      "               '1.0': {'frechet_inception_distance': 29.158439818399117,\n",
      "                       'inception_score_mean': 1.7261398676278297,\n",
      "                       'inception_score_std': 0.11605066401109664},\n",
      "               'all_classes': {'frechet_inception_distance': 5.972372133103363,\n",
      "                               'inception_score_mean': 1.9209944778728005,\n",
      "                               'inception_score_std': 0.06398062906696089}},\n",
      " 'exp_rep_2': {'0.0003': {'frechet_inception_distance': 18.912127498068628,\n",
      "                          'inception_score_mean': 1.7402375615552064,\n",
      "                          'inception_score_std': 0.13863942997307413},\n",
      "               '0.001': {'frechet_inception_distance': 25.364531753194797,\n",
      "                         'inception_score_mean': 1.8172177773416145,\n",
      "                         'inception_score_std': 0.16479921400608905},\n",
      "               '0.003': {'frechet_inception_distance': 31.00789698187009,\n",
      "                         'inception_score_mean': 1.8413775647926482,\n",
      "                         'inception_score_std': 0.07850990614320637},\n",
      "               '0.01': {'frechet_inception_distance': 31.557949162841282,\n",
      "                        'inception_score_mean': 1.8493761772213784,\n",
      "                        'inception_score_std': 0.11568375507714256},\n",
      "               '0.03': {'frechet_inception_distance': 28.141348612720975,\n",
      "                        'inception_score_mean': 1.6268611033519633,\n",
      "                        'inception_score_std': 0.12874325088468774},\n",
      "               '0.1': {'frechet_inception_distance': 29.336693872504085,\n",
      "                       'inception_score_mean': 1.7983574774026476,\n",
      "                       'inception_score_std': 0.16970027862796455},\n",
      "               '0.3': {'frechet_inception_distance': 27.579114963573943,\n",
      "                       'inception_score_mean': 1.779085758790669,\n",
      "                       'inception_score_std': 0.12465527374586476},\n",
      "               '1.0': {'frechet_inception_distance': 27.66613547764213,\n",
      "                       'inception_score_mean': 1.7108571068228684,\n",
      "                       'inception_score_std': 0.09743364229668422},\n",
      "               'all_classes': {'frechet_inception_distance': 5.9140846079992855,\n",
      "                               'inception_score_mean': 1.919320256085874,\n",
      "                               'inception_score_std': 0.06709306378701958}},\n",
      " 'exp_rep_3': {'0.0003': {'frechet_inception_distance': 19.009885123268504,\n",
      "                          'inception_score_mean': 1.7538834413377624,\n",
      "                          'inception_score_std': 0.0915843350668126},\n",
      "               '0.001': {'frechet_inception_distance': 24.685357851122887,\n",
      "                         'inception_score_mean': 1.8106227939696935,\n",
      "                         'inception_score_std': 0.11115915117679338},\n",
      "               '0.003': {'frechet_inception_distance': 29.445371776290642,\n",
      "                         'inception_score_mean': 1.8447258282755754,\n",
      "                         'inception_score_std': 0.15033473720282897},\n",
      "               '0.01': {'frechet_inception_distance': 30.828091377056978,\n",
      "                        'inception_score_mean': 1.8213394368274383,\n",
      "                        'inception_score_std': 0.11403227999629548},\n",
      "               '0.03': {'frechet_inception_distance': 29.044905887956034,\n",
      "                        'inception_score_mean': 1.6638310131909684,\n",
      "                        'inception_score_std': 0.18153192931080755},\n",
      "               '0.1': {'frechet_inception_distance': 29.454913139049935,\n",
      "                       'inception_score_mean': 1.7723607980172986,\n",
      "                       'inception_score_std': 0.09672234175085193},\n",
      "               '0.3': {'frechet_inception_distance': 27.607800538112954,\n",
      "                       'inception_score_mean': 1.8382784455531969,\n",
      "                       'inception_score_std': 0.12599859234121644},\n",
      "               '1.0': {'frechet_inception_distance': 28.325193147578588,\n",
      "                       'inception_score_mean': 1.7227134846597796,\n",
      "                       'inception_score_std': 0.13594644638450024},\n",
      "               'all_classes': {'frechet_inception_distance': 5.979248071268955,\n",
      "                               'inception_score_mean': 1.9150059038481289,\n",
      "                               'inception_score_std': 0.04989770651617268}},\n",
      " 'exp_rep_4': {'0.0003': {'frechet_inception_distance': 19.04765387414386,\n",
      "                          'inception_score_mean': 1.7673273018979132,\n",
      "                          'inception_score_std': 0.10891865044823495},\n",
      "               '0.001': {'frechet_inception_distance': 25.300016779199666,\n",
      "                         'inception_score_mean': 1.8673073739943358,\n",
      "                         'inception_score_std': 0.18464941557818762},\n",
      "               '0.003': {'frechet_inception_distance': 29.335490554622254,\n",
      "                         'inception_score_mean': 1.8243779063943026,\n",
      "                         'inception_score_std': 0.12695080342921644},\n",
      "               '0.01': {'frechet_inception_distance': 31.031997861014815,\n",
      "                        'inception_score_mean': 1.7571538936064788,\n",
      "                        'inception_score_std': 0.15870617494447817},\n",
      "               '0.03': {'frechet_inception_distance': 28.633097948665892,\n",
      "                        'inception_score_mean': 1.7074522927819427,\n",
      "                        'inception_score_std': 0.14146236331246392},\n",
      "               '0.1': {'frechet_inception_distance': 29.134917519263325,\n",
      "                       'inception_score_mean': 1.8603091228720412,\n",
      "                       'inception_score_std': 0.21768028781869883},\n",
      "               '0.3': {'frechet_inception_distance': 27.30449597921279,\n",
      "                       'inception_score_mean': 1.8633639934346622,\n",
      "                       'inception_score_std': 0.10659684047940723},\n",
      "               '1.0': {'frechet_inception_distance': 29.06627308485227,\n",
      "                       'inception_score_mean': 1.6748180371094166,\n",
      "                       'inception_score_std': 0.11782209142272677},\n",
      "               'all_classes': {'frechet_inception_distance': 5.9187351139210875,\n",
      "                               'inception_score_mean': 1.9268199681651308,\n",
      "                               'inception_score_std': 0.04251665714968349}},\n",
      " 'exp_rep_5': {'0.0003': {'frechet_inception_distance': 18.64992844400274,\n",
      "                          'inception_score_mean': 1.7601665200868932,\n",
      "                          'inception_score_std': 0.110005927548942},\n",
      "               '0.001': {'frechet_inception_distance': 24.489615767740162,\n",
      "                         'inception_score_mean': 1.8481204839386105,\n",
      "                         'inception_score_std': 0.12914023350097867},\n",
      "               '0.003': {'frechet_inception_distance': 30.439643945031406,\n",
      "                         'inception_score_mean': 1.8257487890821733,\n",
      "                         'inception_score_std': 0.1251613646306412},\n",
      "               '0.01': {'frechet_inception_distance': 32.607797557751184,\n",
      "                        'inception_score_mean': 1.794536059330338,\n",
      "                        'inception_score_std': 0.16870818569128546},\n",
      "               '0.03': {'frechet_inception_distance': 28.963664000701343,\n",
      "                        'inception_score_mean': 1.676294718680166,\n",
      "                        'inception_score_std': 0.10404899752209384},\n",
      "               '0.1': {'frechet_inception_distance': 29.26856475311243,\n",
      "                       'inception_score_mean': 1.7615815849489536,\n",
      "                       'inception_score_std': 0.13551600142176734},\n",
      "               '0.3': {'frechet_inception_distance': 27.094448620530642,\n",
      "                       'inception_score_mean': 1.8087011948373437,\n",
      "                       'inception_score_std': 0.19075977016816673},\n",
      "               '1.0': {'frechet_inception_distance': 27.899684763432944,\n",
      "                       'inception_score_mean': 1.6960438614882414,\n",
      "                       'inception_score_std': 0.09545086636817962},\n",
      "               'all_classes': {'frechet_inception_distance': 5.907798921314338,\n",
      "                               'inception_score_mean': 1.919422385066449,\n",
      "                               'inception_score_std': 0.07472415824597448}},\n",
      " 'exp_rep_6': {'0.0003': {'frechet_inception_distance': 18.900884738933485,\n",
      "                          'inception_score_mean': 1.7540041304902292,\n",
      "                          'inception_score_std': 0.04488425562819509},\n",
      "               '0.001': {'frechet_inception_distance': 24.305539536295555,\n",
      "                         'inception_score_mean': 1.8107001265360831,\n",
      "                         'inception_score_std': 0.14382344464526198},\n",
      "               '0.003': {'frechet_inception_distance': 30.231042408101445,\n",
      "                         'inception_score_mean': 1.8226465544185153,\n",
      "                         'inception_score_std': 0.1785741427136315},\n",
      "               '0.01': {'frechet_inception_distance': 30.33296139685379,\n",
      "                        'inception_score_mean': 1.813634208155839,\n",
      "                        'inception_score_std': 0.1674525562171708},\n",
      "               '0.03': {'frechet_inception_distance': 29.732631195629224,\n",
      "                        'inception_score_mean': 1.7030488684569622,\n",
      "                        'inception_score_std': 0.12660336933877347},\n",
      "               '0.1': {'frechet_inception_distance': 29.198099534955986,\n",
      "                       'inception_score_mean': 1.7419483835208194,\n",
      "                       'inception_score_std': 0.13978112963539222},\n",
      "               '0.3': {'frechet_inception_distance': 27.949238637915983,\n",
      "                       'inception_score_mean': 1.8039290936089025,\n",
      "                       'inception_score_std': 0.09466809830921645},\n",
      "               '1.0': {'frechet_inception_distance': 27.9789481176054,\n",
      "                       'inception_score_mean': 1.71379179480116,\n",
      "                       'inception_score_std': 0.1016008180370407},\n",
      "               'all_classes': {'frechet_inception_distance': 5.847875745448675,\n",
      "                               'inception_score_mean': 1.9263079081165082,\n",
      "                               'inception_score_std': 0.07141794188681445}},\n",
      " 'exp_rep_7': {'0.0003': {'frechet_inception_distance': 19.446146608117658,\n",
      "                          'inception_score_mean': 1.7061869544207742,\n",
      "                          'inception_score_std': 0.10911868302835667},\n",
      "               '0.001': {'frechet_inception_distance': 24.491975931442767,\n",
      "                         'inception_score_mean': 1.92543104108177,\n",
      "                         'inception_score_std': 0.1272668564626035},\n",
      "               '0.003': {'frechet_inception_distance': 31.026612403973616,\n",
      "                         'inception_score_mean': 1.802752162543578,\n",
      "                         'inception_score_std': 0.10830159996939812},\n",
      "               '0.01': {'frechet_inception_distance': 32.368643825484654,\n",
      "                        'inception_score_mean': 1.7746244087069667,\n",
      "                        'inception_score_std': 0.15165795230942608},\n",
      "               '0.03': {'frechet_inception_distance': 28.958956976713253,\n",
      "                        'inception_score_mean': 1.706810623991887,\n",
      "                        'inception_score_std': 0.10782249492592279},\n",
      "               '0.1': {'frechet_inception_distance': 28.90129676002624,\n",
      "                       'inception_score_mean': 1.7523110529840893,\n",
      "                       'inception_score_std': 0.10688712454218001},\n",
      "               '0.3': {'frechet_inception_distance': 27.50718203860876,\n",
      "                       'inception_score_mean': 1.790118481310039,\n",
      "                       'inception_score_std': 0.15665077209173897},\n",
      "               '1.0': {'frechet_inception_distance': 28.34014496567508,\n",
      "                       'inception_score_mean': 1.654093882339249,\n",
      "                       'inception_score_std': 0.1453279978378406},\n",
      "               'all_classes': {'frechet_inception_distance': 5.953703993431105,\n",
      "                               'inception_score_mean': 1.9103261760646681,\n",
      "                               'inception_score_std': 0.07904953735319376}},\n",
      " 'exp_rep_8': {'0.0003': {'frechet_inception_distance': 18.760227495528113,\n",
      "                          'inception_score_mean': 1.7294381989429102,\n",
      "                          'inception_score_std': 0.12182965783379078},\n",
      "               '0.001': {'frechet_inception_distance': 24.434092814974463,\n",
      "                         'inception_score_mean': 1.8205357199350742,\n",
      "                         'inception_score_std': 0.17332527814812737},\n",
      "               '0.003': {'frechet_inception_distance': 29.106776890594006,\n",
      "                         'inception_score_mean': 1.828123221476916,\n",
      "                         'inception_score_std': 0.14670134554453304},\n",
      "               '0.01': {'frechet_inception_distance': 33.03810208842219,\n",
      "                        'inception_score_mean': 1.8480431201211314,\n",
      "                        'inception_score_std': 0.11804842635150499},\n",
      "               '0.03': {'frechet_inception_distance': 29.36472050159361,\n",
      "                        'inception_score_mean': 1.6874244966903134,\n",
      "                        'inception_score_std': 0.09124149722866104},\n",
      "               '0.1': {'frechet_inception_distance': 30.03532712050763,\n",
      "                       'inception_score_mean': 1.7214192727809432,\n",
      "                       'inception_score_std': 0.07202898279842923},\n",
      "               '0.3': {'frechet_inception_distance': 27.871223481153805,\n",
      "                       'inception_score_mean': 1.8384290557504446,\n",
      "                       'inception_score_std': 0.1489717550964266},\n",
      "               '1.0': {'frechet_inception_distance': 28.569287288704828,\n",
      "                       'inception_score_mean': 1.6991876794889387,\n",
      "                       'inception_score_std': 0.09875427441431359},\n",
      "               'all_classes': {'frechet_inception_distance': 5.899227888807076,\n",
      "                               'inception_score_mean': 1.9085357991115823,\n",
      "                               'inception_score_std': 0.04686449168959576}},\n",
      " 'exp_rep_9': {'0.0003': {'frechet_inception_distance': 19.21136105590594,\n",
      "                          'inception_score_mean': 1.7647650779464754,\n",
      "                          'inception_score_std': 0.1176764492765404},\n",
      "               '0.001': {'frechet_inception_distance': 24.21349006111751,\n",
      "                         'inception_score_mean': 1.7790609261456836,\n",
      "                         'inception_score_std': 0.11705586569414007},\n",
      "               '0.003': {'frechet_inception_distance': 29.611086309311844,\n",
      "                         'inception_score_mean': 1.8773192384092667,\n",
      "                         'inception_score_std': 0.12038654175797317},\n",
      "               '0.01': {'frechet_inception_distance': 32.2396679973872,\n",
      "                        'inception_score_mean': 1.9197199735659403,\n",
      "                        'inception_score_std': 0.23865500543082135},\n",
      "               '0.03': {'frechet_inception_distance': 28.661256070870763,\n",
      "                        'inception_score_mean': 1.7047992243739678,\n",
      "                        'inception_score_std': 0.12122967137604063},\n",
      "               '0.1': {'frechet_inception_distance': 28.98030861235833,\n",
      "                       'inception_score_mean': 1.7514144856427039,\n",
      "                       'inception_score_std': 0.14118036973182813},\n",
      "               '0.3': {'frechet_inception_distance': 28.051809777426257,\n",
      "                       'inception_score_mean': 1.7856049252296404,\n",
      "                       'inception_score_std': 0.15144342034245128},\n",
      "               '1.0': {'frechet_inception_distance': 27.863993424176385,\n",
      "                       'inception_score_mean': 1.7474190662972657,\n",
      "                       'inception_score_std': 0.0842667840033166},\n",
      "               'all_classes': {'frechet_inception_distance': 5.852513668581594,\n",
      "                               'inception_score_mean': 1.918939717844486,\n",
      "                               'inception_score_std': 0.060107792319713964}}}\n"
     ]
    }
   ],
   "source": [
    "pprint(eval_metrics)"
   ]
  },
  {
   "cell_type": "code",
   "execution_count": 30,
   "metadata": {},
   "outputs": [
    {
     "name": "stdout",
     "output_type": "stream",
     "text": [
      "{'0.0003': [18.95410614252407,\n",
      "            18.863447090427314,\n",
      "            18.912127498068628,\n",
      "            19.009885123268504,\n",
      "            19.04765387414386,\n",
      "            18.64992844400274,\n",
      "            18.900884738933485,\n",
      "            19.446146608117658,\n",
      "            18.760227495528113,\n",
      "            19.21136105590594],\n",
      " '0.001': [24.721903391428157,\n",
      "           24.860038794228416,\n",
      "           25.364531753194797,\n",
      "           24.685357851122887,\n",
      "           25.300016779199666,\n",
      "           24.489615767740162,\n",
      "           24.305539536295555,\n",
      "           24.491975931442767,\n",
      "           24.434092814974463,\n",
      "           24.21349006111751],\n",
      " '0.003': [29.460609665640476,\n",
      "           29.617363198848835,\n",
      "           31.00789698187009,\n",
      "           29.445371776290642,\n",
      "           29.335490554622254,\n",
      "           30.439643945031406,\n",
      "           30.231042408101445,\n",
      "           31.026612403973616,\n",
      "           29.106776890594006,\n",
      "           29.611086309311844],\n",
      " '0.01': [31.46903042462452,\n",
      "          31.8054493255963,\n",
      "          31.557949162841282,\n",
      "          30.828091377056978,\n",
      "          31.031997861014815,\n",
      "          32.607797557751184,\n",
      "          30.33296139685379,\n",
      "          32.368643825484654,\n",
      "          33.03810208842219,\n",
      "          32.2396679973872],\n",
      " '0.03': [28.814193530574272,\n",
      "          29.20751624442758,\n",
      "          28.141348612720975,\n",
      "          29.044905887956034,\n",
      "          28.633097948665892,\n",
      "          28.963664000701343,\n",
      "          29.732631195629224,\n",
      "          28.958956976713253,\n",
      "          29.36472050159361,\n",
      "          28.661256070870763],\n",
      " '0.1': [29.35577909421488,\n",
      "         29.42072444736465,\n",
      "         29.336693872504085,\n",
      "         29.454913139049935,\n",
      "         29.134917519263325,\n",
      "         29.26856475311243,\n",
      "         29.198099534955986,\n",
      "         28.90129676002624,\n",
      "         30.03532712050763,\n",
      "         28.98030861235833],\n",
      " '0.3': [28.001348046367525,\n",
      "         27.785643208595033,\n",
      "         27.579114963573943,\n",
      "         27.607800538112954,\n",
      "         27.30449597921279,\n",
      "         27.094448620530642,\n",
      "         27.949238637915983,\n",
      "         27.50718203860876,\n",
      "         27.871223481153805,\n",
      "         28.051809777426257],\n",
      " '1.0': [28.358185132103102,\n",
      "         29.158439818399117,\n",
      "         27.66613547764213,\n",
      "         28.325193147578588,\n",
      "         29.06627308485227,\n",
      "         27.899684763432944,\n",
      "         27.9789481176054,\n",
      "         28.34014496567508,\n",
      "         28.569287288704828,\n",
      "         27.863993424176385],\n",
      " 'all_classes': [5.815758572554586,\n",
      "                 5.972372133103363,\n",
      "                 5.9140846079992855,\n",
      "                 5.979248071268955,\n",
      "                 5.9187351139210875,\n",
      "                 5.907798921314338,\n",
      "                 5.847875745448675,\n",
      "                 5.953703993431105,\n",
      "                 5.899227888807076,\n",
      "                 5.852513668581594]}\n"
     ]
    }
   ],
   "source": [
    "# Extract class names and FID scores for training data vs training data\n",
    "class_names = list(eval_metrics[\"exp_rep_0\"].keys())\n",
    "fid_scores_by_class_train = {class_name: [] for class_name in class_names}\n",
    "\n",
    "for exp_rep in eval_metrics.values():\n",
    "    for class_name in class_names:\n",
    "        fid_scores_by_class_train[class_name].append(exp_rep[class_name][\"frechet_inception_distance\"])\n",
    "\n",
    "pprint(fid_scores_by_class_train)"
   ]
  },
  {
   "cell_type": "markdown",
   "metadata": {},
   "source": [
    "## Load gen vs train FIDs\n",
    "\n",
    "This is done in `inference.py` script"
   ]
  },
  {
   "cell_type": "code",
   "execution_count": 65,
   "metadata": {},
   "outputs": [],
   "source": [
    "saved_FIDs_generation_path = Path(\n",
    "    \"/\",\n",
    "    \"projects\",\n",
    "    \"static2dynamic\",\n",
    "    \"Thomas\",\n",
    "    \"experiments\",\n",
    "    \"GaussianProxy\",\n",
    "    \"BBBC021_196_docetaxel_4M_net_SAVED_MODEL_MISMATCH\",  # change here\n",
    "    \"inferences\",\n",
    "    \"FIDComputation_50_diffsteps\",  # change here\n",
    "    \"metrics.json\",\n",
    ")"
   ]
  },
  {
   "cell_type": "code",
   "execution_count": 66,
   "metadata": {},
   "outputs": [
    {
     "name": "stdout",
     "output_type": "stream",
     "text": [
      "{'0.0003': {'frechet_inception_distance': 88.51519978959445,\n",
      "            'inception_score_mean': 1.8631795993614548,\n",
      "            'inception_score_std': 0.09232220056540451},\n",
      " '0.001': {'frechet_inception_distance': 73.64475518657272,\n",
      "           'inception_score_mean': 1.8893963745957787,\n",
      "           'inception_score_std': 0.10599053586169287},\n",
      " '0.003': {'frechet_inception_distance': 42.76327722604688,\n",
      "           'inception_score_mean': 1.860974091336205,\n",
      "           'inception_score_std': 0.09111696637803696},\n",
      " '0.01': {'frechet_inception_distance': 42.73245897723277,\n",
      "          'inception_score_mean': 1.901084395198546,\n",
      "          'inception_score_std': 0.15780698399000842},\n",
      " '0.03': {'frechet_inception_distance': 31.53402754341441,\n",
      "          'inception_score_mean': 1.7359301376811764,\n",
      "          'inception_score_std': 0.08753921097890205},\n",
      " '0.1': {'frechet_inception_distance': 32.361423997051716,\n",
      "         'inception_score_mean': 1.8273801946846955,\n",
      "         'inception_score_std': 0.11660844542087218},\n",
      " '0.3': {'frechet_inception_distance': 32.79504339601783,\n",
      "         'inception_score_mean': 1.8438764573581772,\n",
      "         'inception_score_std': 0.06957529161071441},\n",
      " '1.0': {'frechet_inception_distance': 31.56983195286537,\n",
      "         'inception_score_mean': 1.7748390693453377,\n",
      "         'inception_score_std': 0.09296744819807369},\n",
      " 'all_classes': {'frechet_inception_distance': 24.826142322166646,\n",
      "                 'inception_score_mean': 1.9320772841093778,\n",
      "                 'inception_score_std': 0.04224178942407516}}\n"
     ]
    }
   ],
   "source": [
    "# Extract FID scores on generated data vs training data\n",
    "with open(saved_FIDs_generation_path, \"r\") as f:\n",
    "    fid_scores_by_class_gen = json.load(f)\n",
    "pprint(fid_scores_by_class_gen)"
   ]
  },
  {
   "cell_type": "markdown",
   "metadata": {},
   "source": [
    "## Plot"
   ]
  },
  {
   "cell_type": "code",
   "execution_count": 67,
   "metadata": {},
   "outputs": [
    {
     "data": {
      "image/png": "[encoded data removed]",
      "text/plain": [
       "<Figure size 1000x600 with 1 Axes>"
      ]
     },
     "metadata": {},
     "output_type": "display_data"
    }
   ],
   "source": [
    "plt.figure(figsize=(10, 6))\n",
    "class_labels = [f\"{class_name}\\n({nb_elems_per_class[class_name]})\" for class_name in class_names]\n",
    "plt.boxplot(\n",
    "    [fid_scores_by_class_train[class_name] for class_name in class_names],\n",
    "    tick_labels=class_labels,\n",
    "    showfliers=True,\n",
    "    flierprops=dict(marker=\"x\", markersize=3),\n",
    "    label=\"true data vs true data\",\n",
    ")\n",
    "plt.scatter(\n",
    "    x=range(1, len(class_names) + 1),\n",
    "    y=[fid_scores_by_class_gen[cl_name][\"frechet_inception_distance\"] for cl_name in class_names],\n",
    "    label=\"generated data vs true data\",\n",
    ")\n",
    "plt.xlabel(\"Class Name (total number of class elements)\")\n",
    "plt.ylabel(\"FID Score\")\n",
    "plt.title(\"Intra-class FID score\")\n",
    "plt.xticks(rotation=45, ha=\"right\")\n",
    "plt.grid(axis=\"x\")\n",
    "plt.legend()\n",
    "plt.tight_layout()\n",
    "plt.ylim(2, 90.5)\n",
    "plt.show()"
   ]
  },
  {
   "cell_type": "code",
   "execution_count": 68,
   "metadata": {},
   "outputs": [
    {
     "data": {
      "application/vnd.plotly.v1+json": {
       "config": {
        "plotlyServerURL": "https://plot.ly"
       },
       "data": [
        {
         "name": "train vs train",
         "type": "box",
         "x": [
          "all_classes",
          "all_classes",
          "all_classes",
          "all_classes",
          "all_classes",
          "all_classes",
          "all_classes",
          "all_classes",
          "all_classes",
          "all_classes",
          "0.0003",
          "0.0003",
          "0.0003",
          "0.0003",
          "0.0003",
          "0.0003",
          "0.0003",
          "0.0003",
          "0.0003",
          "0.0003",
          "0.001",
          "0.001",
          "0.001",
          "0.001",
          "0.001",
          "0.001",
          "0.001",
          "0.001",
          "0.001",
          "0.001",
          "0.003",
          "0.003",
          "0.003",
          "0.003",
          "0.003",
          "0.003",
          "0.003",
          "0.003",
          "0.003",
          "0.003",
          "0.01",
          "0.01",
          "0.01",
          "0.01",
          "0.01",
          "0.01",
          "0.01",
          "0.01",
          "0.01",
          "0.01",
          "0.03",
          "0.03",
          "0.03",
          "0.03",
          "0.03",
          "0.03",
          "0.03",
          "0.03",
          "0.03",
          "0.03",
          "0.1",
          "0.1",
          "0.1",
          "0.1",
          "0.1",
          "0.1",
          "0.1",
          "0.1",
          "0.1",
          "0.1",
          "0.3",
          "0.3",
          "0.3",
          "0.3",
          "0.3",
          "0.3",
          "0.3",
          "0.3",
          "0.3",
          "0.3",
          "1.0",
          "1.0",
          "1.0",
          "1.0",
          "1.0",
          "1.0",
          "1.0",
          "1.0",
          "1.0",
          "1.0"
         ],
         "y": [
          5.815758572554586,
          5.972372133103363,
          5.9140846079992855,
          5.979248071268955,
          5.9187351139210875,
          5.907798921314338,
          5.847875745448675,
          5.953703993431105,
          5.899227888807076,
          5.852513668581594,
          18.95410614252407,
          18.86344709042731,
          18.912127498068628,
          19.009885123268504,
          19.04765387414386,
          18.64992844400274,
          18.900884738933485,
          19.446146608117655,
          18.760227495528113,
          19.21136105590594,
          24.721903391428157,
          24.860038794228416,
          25.364531753194797,
          24.685357851122887,
          25.300016779199662,
          24.48961576774016,
          24.305539536295555,
          24.491975931442767,
          24.434092814974463,
          24.21349006111751,
          29.460609665640476,
          29.617363198848835,
          31.00789698187009,
          29.44537177629064,
          29.335490554622258,
          30.439643945031406,
          30.231042408101445,
          31.026612403973616,
          29.10677689059401,
          29.611086309311844,
          31.46903042462452,
          31.8054493255963,
          31.55794916284128,
          30.828091377056975,
          31.031997861014815,
          32.607797557751184,
          30.33296139685379,
          32.368643825484654,
          33.03810208842219,
          32.2396679973872,
          28.814193530574272,
          29.20751624442758,
          28.141348612720975,
          29.04490588795603,
          28.633097948665892,
          28.963664000701343,
          29.732631195629224,
          28.958956976713253,
          29.36472050159361,
          28.661256070870763,
          29.35577909421488,
          29.42072444736465,
          29.336693872504085,
          29.454913139049935,
          29.134917519263325,
          29.26856475311243,
          29.198099534955983,
          28.90129676002624,
          30.03532712050763,
          28.98030861235833,
          28.001348046367525,
          27.785643208595033,
          27.579114963573943,
          27.60780053811295,
          27.30449597921279,
          27.09444862053064,
          27.949238637915983,
          27.50718203860876,
          27.871223481153805,
          28.051809777426257,
          28.358185132103102,
          29.158439818399117,
          27.66613547764213,
          28.325193147578588,
          29.06627308485227,
          27.899684763432944,
          27.9789481176054,
          28.34014496567508,
          28.569287288704828,
          27.863993424176385
         ]
        },
        {
         "name": "gen vs train",
         "type": "box",
         "x": [
          "all_classes",
          "0.0003",
          "0.001",
          "0.003",
          "0.01",
          "0.03",
          "0.1",
          "0.3",
          "1.0"
         ],
         "y": [
          24.82614232216665,
          88.51519978959445,
          73.64475518657272,
          42.76327722604688,
          42.73245897723277,
          31.53402754341441,
          32.361423997051716,
          32.79504339601783,
          31.56983195286537
         ]
        }
       ],
       "layout": {
        "boxmode": "group",
        "height": 700,
        "template": {
         "data": {
          "bar": [
           {
            "error_x": {
             "color": "#2a3f5f"
            },
            "error_y": {
             "color": "#2a3f5f"
            },
            "marker": {
             "line": {
              "color": "#E5ECF6",
              "width": 0.5
             },
             "pattern": {
              "fillmode": "overlay",
              "size": 10,
              "solidity": 0.2
             }
            },
            "type": "bar"
           }
          ],
          "barpolar": [
           {
            "marker": {
             "line": {
              "color": "#E5ECF6",
              "width": 0.5
             },
             "pattern": {
              "fillmode": "overlay",
              "size": 10,
              "solidity": 0.2
             }
            },
            "type": "barpolar"
           }
          ],
          "carpet": [
           {
            "aaxis": {
             "endlinecolor": "#2a3f5f",
             "gridcolor": "white",
             "linecolor": "white",
             "minorgridcolor": "white",
             "startlinecolor": "#2a3f5f"
            },
            "baxis": {
             "endlinecolor": "#2a3f5f",
             "gridcolor": "white",
             "linecolor": "white",
             "minorgridcolor": "white",
             "startlinecolor": "#2a3f5f"
            },
            "type": "carpet"
           }
          ],
          "choropleth": [
           {
            "colorbar": {
             "outlinewidth": 0,
             "ticks": ""
            },
            "type": "choropleth"
           }
          ],
          "contour": [
           {
            "colorbar": {
             "outlinewidth": 0,
             "ticks": ""
            },
            "colorscale": [
             [
              0,
              "#0d0887"
             ],
             [
              0.1111111111111111,
              "#46039f"
             ],
             [
              0.2222222222222222,
              "#7201a8"
             ],
             [
              0.3333333333333333,
              "#9c179e"
             ],
             [
              0.4444444444444444,
              "#bd3786"
             ],
             [
              0.5555555555555556,
              "#d8576b"
             ],
             [
              0.6666666666666666,
              "#ed7953"
             ],
             [
              0.7777777777777778,
              "#fb9f3a"
             ],
             [
              0.8888888888888888,
              "#fdca26"
             ],
             [
              1,
              "#f0f921"
             ]
            ],
            "type": "contour"
           }
          ],
          "contourcarpet": [
           {
            "colorbar": {
             "outlinewidth": 0,
             "ticks": ""
            },
            "type": "contourcarpet"
           }
          ],
          "heatmap": [
           {
            "colorbar": {
             "outlinewidth": 0,
             "ticks": ""
            },
            "colorscale": [
             [
              0,
              "#0d0887"
             ],
             [
              0.1111111111111111,
              "#46039f"
             ],
             [
              0.2222222222222222,
              "#7201a8"
             ],
             [
              0.3333333333333333,
              "#9c179e"
             ],
             [
              0.4444444444444444,
              "#bd3786"
             ],
             [
              0.5555555555555556,
              "#d8576b"
             ],
             [
              0.6666666666666666,
              "#ed7953"
             ],
             [
              0.7777777777777778,
              "#fb9f3a"
             ],
             [
              0.8888888888888888,
              "#fdca26"
             ],
             [
              1,
              "#f0f921"
             ]
            ],
            "type": "heatmap"
           }
          ],
          "heatmapgl": [
           {
            "colorbar": {
             "outlinewidth": 0,
             "ticks": ""
            },
            "colorscale": [
             [
              0,
              "#0d0887"
             ],
             [
              0.1111111111111111,
              "#46039f"
             ],
             [
              0.2222222222222222,
              "#7201a8"
             ],
             [
              0.3333333333333333,
              "#9c179e"
             ],
             [
              0.4444444444444444,
              "#bd3786"
             ],
             [
              0.5555555555555556,
              "#d8576b"
             ],
             [
              0.6666666666666666,
              "#ed7953"
             ],
             [
              0.7777777777777778,
              "#fb9f3a"
             ],
             [
              0.8888888888888888,
              "#fdca26"
             ],
             [
              1,
              "#f0f921"
             ]
            ],
            "type": "heatmapgl"
           }
          ],
          "histogram": [
           {
            "marker": {
             "pattern": {
              "fillmode": "overlay",
              "size": 10,
              "solidity": 0.2
             }
            },
            "type": "histogram"
           }
          ],
          "histogram2d": [
           {
            "colorbar": {
             "outlinewidth": 0,
             "ticks": ""
            },
            "colorscale": [
             [
              0,
              "#0d0887"
             ],
             [
              0.1111111111111111,
              "#46039f"
             ],
             [
              0.2222222222222222,
              "#7201a8"
             ],
             [
              0.3333333333333333,
              "#9c179e"
             ],
             [
              0.4444444444444444,
              "#bd3786"
             ],
             [
              0.5555555555555556,
              "#d8576b"
             ],
             [
              0.6666666666666666,
              "#ed7953"
             ],
             [
              0.7777777777777778,
              "#fb9f3a"
             ],
             [
              0.8888888888888888,
              "#fdca26"
             ],
             [
              1,
              "#f0f921"
             ]
            ],
            "type": "histogram2d"
           }
          ],
          "histogram2dcontour": [
           {
            "colorbar": {
             "outlinewidth": 0,
             "ticks": ""
            },
            "colorscale": [
             [
              0,
              "#0d0887"
             ],
             [
              0.1111111111111111,
              "#46039f"
             ],
             [
              0.2222222222222222,
              "#7201a8"
             ],
             [
              0.3333333333333333,
              "#9c179e"
             ],
             [
              0.4444444444444444,
              "#bd3786"
             ],
             [
              0.5555555555555556,
              "#d8576b"
             ],
             [
              0.6666666666666666,
              "#ed7953"
             ],
             [
              0.7777777777777778,
              "#fb9f3a"
             ],
             [
              0.8888888888888888,
              "#fdca26"
             ],
             [
              1,
              "#f0f921"
             ]
            ],
            "type": "histogram2dcontour"
           }
          ],
          "mesh3d": [
           {
            "colorbar": {
             "outlinewidth": 0,
             "ticks": ""
            },
            "type": "mesh3d"
           }
          ],
          "parcoords": [
           {
            "line": {
             "colorbar": {
              "outlinewidth": 0,
              "ticks": ""
             }
            },
            "type": "parcoords"
           }
          ],
          "pie": [
           {
            "automargin": true,
            "type": "pie"
           }
          ],
          "scatter": [
           {
            "fillpattern": {
             "fillmode": "overlay",
             "size": 10,
             "solidity": 0.2
            },
            "type": "scatter"
           }
          ],
          "scatter3d": [
           {
            "line": {
             "colorbar": {
              "outlinewidth": 0,
              "ticks": ""
             }
            },
            "marker": {
             "colorbar": {
              "outlinewidth": 0,
              "ticks": ""
             }
            },
            "type": "scatter3d"
           }
          ],
          "scattercarpet": [
           {
            "marker": {
             "colorbar": {
              "outlinewidth": 0,
              "ticks": ""
             }
            },
            "type": "scattercarpet"
           }
          ],
          "scattergeo": [
           {
            "marker": {
             "colorbar": {
              "outlinewidth": 0,
              "ticks": ""
             }
            },
            "type": "scattergeo"
           }
          ],
          "scattergl": [
           {
            "marker": {
             "colorbar": {
              "outlinewidth": 0,
              "ticks": ""
             }
            },
            "type": "scattergl"
           }
          ],
          "scattermapbox": [
           {
            "marker": {
             "colorbar": {
              "outlinewidth": 0,
              "ticks": ""
             }
            },
            "type": "scattermapbox"
           }
          ],
          "scatterpolar": [
           {
            "marker": {
             "colorbar": {
              "outlinewidth": 0,
              "ticks": ""
             }
            },
            "type": "scatterpolar"
           }
          ],
          "scatterpolargl": [
           {
            "marker": {
             "colorbar": {
              "outlinewidth": 0,
              "ticks": ""
             }
            },
            "type": "scatterpolargl"
           }
          ],
          "scatterternary": [
           {
            "marker": {
             "colorbar": {
              "outlinewidth": 0,
              "ticks": ""
             }
            },
            "type": "scatterternary"
           }
          ],
          "surface": [
           {
            "colorbar": {
             "outlinewidth": 0,
             "ticks": ""
            },
            "colorscale": [
             [
              0,
              "#0d0887"
             ],
             [
              0.1111111111111111,
              "#46039f"
             ],
             [
              0.2222222222222222,
              "#7201a8"
             ],
             [
              0.3333333333333333,
              "#9c179e"
             ],
             [
              0.4444444444444444,
              "#bd3786"
             ],
             [
              0.5555555555555556,
              "#d8576b"
             ],
             [
              0.6666666666666666,
              "#ed7953"
             ],
             [
              0.7777777777777778,
              "#fb9f3a"
             ],
             [
              0.8888888888888888,
              "#fdca26"
             ],
             [
              1,
              "#f0f921"
             ]
            ],
            "type": "surface"
           }
          ],
          "table": [
           {
            "cells": {
             "fill": {
              "color": "#EBF0F8"
             },
             "line": {
              "color": "white"
             }
            },
            "header": {
             "fill": {
              "color": "#C8D4E3"
             },
             "line": {
              "color": "white"
             }
            },
            "type": "table"
           }
          ]
         },
         "layout": {
          "annotationdefaults": {
           "arrowcolor": "#2a3f5f",
           "arrowhead": 0,
           "arrowwidth": 1
          },
          "autotypenumbers": "strict",
          "coloraxis": {
           "colorbar": {
            "outlinewidth": 0,
            "ticks": ""
           }
          },
          "colorscale": {
           "diverging": [
            [
             0,
             "#8e0152"
            ],
            [
             0.1,
             "#c51b7d"
            ],
            [
             0.2,
             "#de77ae"
            ],
            [
             0.3,
             "#f1b6da"
            ],
            [
             0.4,
             "#fde0ef"
            ],
            [
             0.5,
             "#f7f7f7"
            ],
            [
             0.6,
             "#e6f5d0"
            ],
            [
             0.7,
             "#b8e186"
            ],
            [
             0.8,
             "#7fbc41"
            ],
            [
             0.9,
             "#4d9221"
            ],
            [
             1,
             "#276419"
            ]
           ],
           "sequential": [
            [
             0,
             "#0d0887"
            ],
            [
             0.1111111111111111,
             "#46039f"
            ],
            [
             0.2222222222222222,
             "#7201a8"
            ],
            [
             0.3333333333333333,
             "#9c179e"
            ],
            [
             0.4444444444444444,
             "#bd3786"
            ],
            [
             0.5555555555555556,
             "#d8576b"
            ],
            [
             0.6666666666666666,
             "#ed7953"
            ],
            [
             0.7777777777777778,
             "#fb9f3a"
            ],
            [
             0.8888888888888888,
             "#fdca26"
            ],
            [
             1,
             "#f0f921"
            ]
           ],
           "sequentialminus": [
            [
             0,
             "#0d0887"
            ],
            [
             0.1111111111111111,
             "#46039f"
            ],
            [
             0.2222222222222222,
             "#7201a8"
            ],
            [
             0.3333333333333333,
             "#9c179e"
            ],
            [
             0.4444444444444444,
             "#bd3786"
            ],
            [
             0.5555555555555556,
             "#d8576b"
            ],
            [
             0.6666666666666666,
             "#ed7953"
            ],
            [
             0.7777777777777778,
             "#fb9f3a"
            ],
            [
             0.8888888888888888,
             "#fdca26"
            ],
            [
             1,
             "#f0f921"
            ]
           ]
          },
          "colorway": [
           "#636efa",
           "#EF553B",
           "#00cc96",
           "#ab63fa",
           "#FFA15A",
           "#19d3f3",
           "#FF6692",
           "#B6E880",
           "#FF97FF",
           "#FECB52"
          ],
          "font": {
           "color": "#2a3f5f"
          },
          "geo": {
           "bgcolor": "white",
           "lakecolor": "white",
           "landcolor": "#E5ECF6",
           "showlakes": true,
           "showland": true,
           "subunitcolor": "white"
          },
          "hoverlabel": {
           "align": "left"
          },
          "hovermode": "closest",
          "mapbox": {
           "style": "light"
          },
          "paper_bgcolor": "white",
          "plot_bgcolor": "#E5ECF6",
          "polar": {
           "angularaxis": {
            "gridcolor": "white",
            "linecolor": "white",
            "ticks": ""
           },
           "bgcolor": "#E5ECF6",
           "radialaxis": {
            "gridcolor": "white",
            "linecolor": "white",
            "ticks": ""
           }
          },
          "scene": {
           "xaxis": {
            "backgroundcolor": "#E5ECF6",
            "gridcolor": "white",
            "gridwidth": 2,
            "linecolor": "white",
            "showbackground": true,
            "ticks": "",
            "zerolinecolor": "white"
           },
           "yaxis": {
            "backgroundcolor": "#E5ECF6",
            "gridcolor": "white",
            "gridwidth": 2,
            "linecolor": "white",
            "showbackground": true,
            "ticks": "",
            "zerolinecolor": "white"
           },
           "zaxis": {
            "backgroundcolor": "#E5ECF6",
            "gridcolor": "white",
            "gridwidth": 2,
            "linecolor": "white",
            "showbackground": true,
            "ticks": "",
            "zerolinecolor": "white"
           }
          },
          "shapedefaults": {
           "line": {
            "color": "#2a3f5f"
           }
          },
          "ternary": {
           "aaxis": {
            "gridcolor": "white",
            "linecolor": "white",
            "ticks": ""
           },
           "baxis": {
            "gridcolor": "white",
            "linecolor": "white",
            "ticks": ""
           },
           "bgcolor": "#E5ECF6",
           "caxis": {
            "gridcolor": "white",
            "linecolor": "white",
            "ticks": ""
           }
          },
          "title": {
           "x": 0.05
          },
          "xaxis": {
           "automargin": true,
           "gridcolor": "white",
           "linecolor": "white",
           "ticks": "",
           "title": {
            "standoff": 15
           },
           "zerolinecolor": "white",
           "zerolinewidth": 2
          },
          "yaxis": {
           "automargin": true,
           "gridcolor": "white",
           "linecolor": "white",
           "ticks": "",
           "title": {
            "standoff": 15
           },
           "zerolinecolor": "white",
           "zerolinewidth": 2
          }
         }
        },
        "title": {
         "text": "Intra-class FID score"
        },
        "xaxis": {
         "tickangle": -45,
         "tickmode": "array",
         "ticktext": [
          "all_classes<br>(4793)",
          "0.0003<br>(1281)",
          "0.001<br>(755)",
          "0.003<br>(457)",
          "0.01<br>(423)",
          "0.03<br>(466)",
          "0.1<br>(450)",
          "0.3<br>(471)",
          "1.0<br>(490)"
         ],
         "tickvals": [
          0,
          1,
          2,
          3,
          4,
          5,
          6,
          7,
          8
         ],
         "title": {
          "text": "Class Name (total number of class elements)"
         }
        },
        "yaxis": {
         "title": {
          "text": "FID Score"
         }
        }
       }
      },
      "text/html": [
       "<div>                            <div id=\"882ff9a0-b415-434b-8f86-6dc113edfcfe\" class=\"plotly-graph-div\" style=\"height:700px; width:100%;\"></div>            <script type=\"text/javascript\">                require([\"plotly\"], function(Plotly) {                    window.PLOTLYENV=window.PLOTLYENV || {};                                    if (document.getElementById(\"882ff9a0-b415-434b-8f86-6dc113edfcfe\")) {                    Plotly.newPlot(                        \"882ff9a0-b415-434b-8f86-6dc113edfcfe\",                        [{\"name\":\"train vs train\",\"x\":[\"all_classes\",\"all_classes\",\"all_classes\",\"all_classes\",\"all_classes\",\"all_classes\",\"all_classes\",\"all_classes\",\"all_classes\",\"all_classes\",\"0.0003\",\"0.0003\",\"0.0003\",\"0.0003\",\"0.0003\",\"0.0003\",\"0.0003\",\"0.0003\",\"0.0003\",\"0.0003\",\"0.001\",\"0.001\",\"0.001\",\"0.001\",\"0.001\",\"0.001\",\"0.001\",\"0.001\",\"0.001\",\"0.001\",\"0.003\",\"0.003\",\"0.003\",\"0.003\",\"0.003\",\"0.003\",\"0.003\",\"0.003\",\"0.003\",\"0.003\",\"0.01\",\"0.01\",\"0.01\",\"0.01\",\"0.01\",\"0.01\",\"0.01\",\"0.01\",\"0.01\",\"0.01\",\"0.03\",\"0.03\",\"0.03\",\"0.03\",\"0.03\",\"0.03\",\"0.03\",\"0.03\",\"0.03\",\"0.03\",\"0.1\",\"0.1\",\"0.1\",\"0.1\",\"0.1\",\"0.1\",\"0.1\",\"0.1\",\"0.1\",\"0.1\",\"0.3\",\"0.3\",\"0.3\",\"0.3\",\"0.3\",\"0.3\",\"0.3\",\"0.3\",\"0.3\",\"0.3\",\"1.0\",\"1.0\",\"1.0\",\"1.0\",\"1.0\",\"1.0\",\"1.0\",\"1.0\",\"1.0\",\"1.0\"],\"y\":[5.815758572554586,5.972372133103363,5.9140846079992855,5.979248071268955,5.9187351139210875,5.907798921314338,5.847875745448675,5.953703993431105,5.899227888807076,5.852513668581594,18.95410614252407,18.863447090427314,18.912127498068628,19.009885123268504,19.04765387414386,18.64992844400274,18.900884738933485,19.446146608117658,18.760227495528113,19.21136105590594,24.721903391428157,24.860038794228416,25.364531753194797,24.685357851122887,25.300016779199666,24.489615767740162,24.305539536295555,24.491975931442767,24.434092814974463,24.21349006111751,29.460609665640476,29.617363198848835,31.00789698187009,29.445371776290642,29.335490554622254,30.439643945031406,30.231042408101445,31.026612403973616,29.106776890594006,29.611086309311844,31.46903042462452,31.8054493255963,31.557949162841282,30.828091377056978,31.031997861014815,32.607797557751184,30.33296139685379,32.368643825484654,33.03810208842219,32.2396679973872,28.814193530574272,29.20751624442758,28.141348612720975,29.044905887956034,28.633097948665892,28.963664000701343,29.732631195629224,28.958956976713253,29.36472050159361,28.661256070870763,29.35577909421488,29.42072444736465,29.336693872504085,29.454913139049935,29.134917519263325,29.26856475311243,29.198099534955986,28.90129676002624,30.03532712050763,28.98030861235833,28.001348046367525,27.785643208595033,27.579114963573943,27.607800538112954,27.30449597921279,27.094448620530642,27.949238637915983,27.50718203860876,27.871223481153805,28.051809777426257,28.358185132103102,29.158439818399117,27.66613547764213,28.325193147578588,29.06627308485227,27.899684763432944,27.9789481176054,28.34014496567508,28.569287288704828,27.863993424176385],\"type\":\"box\"},{\"name\":\"gen vs train\",\"x\":[\"all_classes\",\"0.0003\",\"0.001\",\"0.003\",\"0.01\",\"0.03\",\"0.1\",\"0.3\",\"1.0\"],\"y\":[24.826142322166646,88.51519978959445,73.64475518657272,42.76327722604688,42.73245897723277,31.53402754341441,32.361423997051716,32.79504339601783,31.56983195286537],\"type\":\"box\"}],                        {\"template\":{\"data\":{\"histogram2dcontour\":[{\"type\":\"histogram2dcontour\",\"colorbar\":{\"outlinewidth\":0,\"ticks\":\"\"},\"colorscale\":[[0.0,\"#0d0887\"],[0.1111111111111111,\"#46039f\"],[0.2222222222222222,\"#7201a8\"],[0.3333333333333333,\"#9c179e\"],[0.4444444444444444,\"#bd3786\"],[0.5555555555555556,\"#d8576b\"],[0.6666666666666666,\"#ed7953\"],[0.7777777777777778,\"#fb9f3a\"],[0.8888888888888888,\"#fdca26\"],[1.0,\"#f0f921\"]]}],\"choropleth\":[{\"type\":\"choropleth\",\"colorbar\":{\"outlinewidth\":0,\"ticks\":\"\"}}],\"histogram2d\":[{\"type\":\"histogram2d\",\"colorbar\":{\"outlinewidth\":0,\"ticks\":\"\"},\"colorscale\":[[0.0,\"#0d0887\"],[0.1111111111111111,\"#46039f\"],[0.2222222222222222,\"#7201a8\"],[0.3333333333333333,\"#9c179e\"],[0.4444444444444444,\"#bd3786\"],[0.5555555555555556,\"#d8576b\"],[0.6666666666666666,\"#ed7953\"],[0.7777777777777778,\"#fb9f3a\"],[0.8888888888888888,\"#fdca26\"],[1.0,\"#f0f921\"]]}],\"heatmap\":[{\"type\":\"heatmap\",\"colorbar\":{\"outlinewidth\":0,\"ticks\":\"\"},\"colorscale\":[[0.0,\"#0d0887\"],[0.1111111111111111,\"#46039f\"],[0.2222222222222222,\"#7201a8\"],[0.3333333333333333,\"#9c179e\"],[0.4444444444444444,\"#bd3786\"],[0.5555555555555556,\"#d8576b\"],[0.6666666666666666,\"#ed7953\"],[0.7777777777777778,\"#fb9f3a\"],[0.8888888888888888,\"#fdca26\"],[1.0,\"#f0f921\"]]}],\"heatmapgl\":[{\"type\":\"heatmapgl\",\"colorbar\":{\"outlinewidth\":0,\"ticks\":\"\"},\"colorscale\":[[0.0,\"#0d0887\"],[0.1111111111111111,\"#46039f\"],[0.2222222222222222,\"#7201a8\"],[0.3333333333333333,\"#9c179e\"],[0.4444444444444444,\"#bd3786\"],[0.5555555555555556,\"#d8576b\"],[0.6666666666666666,\"#ed7953\"],[0.7777777777777778,\"#fb9f3a\"],[0.8888888888888888,\"#fdca26\"],[1.0,\"#f0f921\"]]}],\"contourcarpet\":[{\"type\":\"contourcarpet\",\"colorbar\":{\"outlinewidth\":0,\"ticks\":\"\"}}],\"contour\":[{\"type\":\"contour\",\"colorbar\":{\"outlinewidth\":0,\"ticks\":\"\"},\"colorscale\":[[0.0,\"#0d0887\"],[0.1111111111111111,\"#46039f\"],[0.2222222222222222,\"#7201a8\"],[0.3333333333333333,\"#9c179e\"],[0.4444444444444444,\"#bd3786\"],[0.5555555555555556,\"#d8576b\"],[0.6666666666666666,\"#ed7953\"],[0.7777777777777778,\"#fb9f3a\"],[0.8888888888888888,\"#fdca26\"],[1.0,\"#f0f921\"]]}],\"surface\":[{\"type\":\"surface\",\"colorbar\":{\"outlinewidth\":0,\"ticks\":\"\"},\"colorscale\":[[0.0,\"#0d0887\"],[0.1111111111111111,\"#46039f\"],[0.2222222222222222,\"#7201a8\"],[0.3333333333333333,\"#9c179e\"],[0.4444444444444444,\"#bd3786\"],[0.5555555555555556,\"#d8576b\"],[0.6666666666666666,\"#ed7953\"],[0.7777777777777778,\"#fb9f3a\"],[0.8888888888888888,\"#fdca26\"],[1.0,\"#f0f921\"]]}],\"mesh3d\":[{\"type\":\"mesh3d\",\"colorbar\":{\"outlinewidth\":0,\"ticks\":\"\"}}],\"scatter\":[{\"fillpattern\":{\"fillmode\":\"overlay\",\"size\":10,\"solidity\":0.2},\"type\":\"scatter\"}],\"parcoords\":[{\"type\":\"parcoords\",\"line\":{\"colorbar\":{\"outlinewidth\":0,\"ticks\":\"\"}}}],\"scatterpolargl\":[{\"type\":\"scatterpolargl\",\"marker\":{\"colorbar\":{\"outlinewidth\":0,\"ticks\":\"\"}}}],\"bar\":[{\"error_x\":{\"color\":\"#2a3f5f\"},\"error_y\":{\"color\":\"#2a3f5f\"},\"marker\":{\"line\":{\"color\":\"#E5ECF6\",\"width\":0.5},\"pattern\":{\"fillmode\":\"overlay\",\"size\":10,\"solidity\":0.2}},\"type\":\"bar\"}],\"scattergeo\":[{\"type\":\"scattergeo\",\"marker\":{\"colorbar\":{\"outlinewidth\":0,\"ticks\":\"\"}}}],\"scatterpolar\":[{\"type\":\"scatterpolar\",\"marker\":{\"colorbar\":{\"outlinewidth\":0,\"ticks\":\"\"}}}],\"histogram\":[{\"marker\":{\"pattern\":{\"fillmode\":\"overlay\",\"size\":10,\"solidity\":0.2}},\"type\":\"histogram\"}],\"scattergl\":[{\"type\":\"scattergl\",\"marker\":{\"colorbar\":{\"outlinewidth\":0,\"ticks\":\"\"}}}],\"scatter3d\":[{\"type\":\"scatter3d\",\"line\":{\"colorbar\":{\"outlinewidth\":0,\"ticks\":\"\"}},\"marker\":{\"colorbar\":{\"outlinewidth\":0,\"ticks\":\"\"}}}],\"scattermapbox\":[{\"type\":\"scattermapbox\",\"marker\":{\"colorbar\":{\"outlinewidth\":0,\"ticks\":\"\"}}}],\"scatterternary\":[{\"type\":\"scatterternary\",\"marker\":{\"colorbar\":{\"outlinewidth\":0,\"ticks\":\"\"}}}],\"scattercarpet\":[{\"type\":\"scattercarpet\",\"marker\":{\"colorbar\":{\"outlinewidth\":0,\"ticks\":\"\"}}}],\"carpet\":[{\"aaxis\":{\"endlinecolor\":\"#2a3f5f\",\"gridcolor\":\"white\",\"linecolor\":\"white\",\"minorgridcolor\":\"white\",\"startlinecolor\":\"#2a3f5f\"},\"baxis\":{\"endlinecolor\":\"#2a3f5f\",\"gridcolor\":\"white\",\"linecolor\":\"white\",\"minorgridcolor\":\"white\",\"startlinecolor\":\"#2a3f5f\"},\"type\":\"carpet\"}],\"table\":[{\"cells\":{\"fill\":{\"color\":\"#EBF0F8\"},\"line\":{\"color\":\"white\"}},\"header\":{\"fill\":{\"color\":\"#C8D4E3\"},\"line\":{\"color\":\"white\"}},\"type\":\"table\"}],\"barpolar\":[{\"marker\":{\"line\":{\"color\":\"#E5ECF6\",\"width\":0.5},\"pattern\":{\"fillmode\":\"overlay\",\"size\":10,\"solidity\":0.2}},\"type\":\"barpolar\"}],\"pie\":[{\"automargin\":true,\"type\":\"pie\"}]},\"layout\":{\"autotypenumbers\":\"strict\",\"colorway\":[\"#636efa\",\"#EF553B\",\"#00cc96\",\"#ab63fa\",\"#FFA15A\",\"#19d3f3\",\"#FF6692\",\"#B6E880\",\"#FF97FF\",\"#FECB52\"],\"font\":{\"color\":\"#2a3f5f\"},\"hovermode\":\"closest\",\"hoverlabel\":{\"align\":\"left\"},\"paper_bgcolor\":\"white\",\"plot_bgcolor\":\"#E5ECF6\",\"polar\":{\"bgcolor\":\"#E5ECF6\",\"angularaxis\":{\"gridcolor\":\"white\",\"linecolor\":\"white\",\"ticks\":\"\"},\"radialaxis\":{\"gridcolor\":\"white\",\"linecolor\":\"white\",\"ticks\":\"\"}},\"ternary\":{\"bgcolor\":\"#E5ECF6\",\"aaxis\":{\"gridcolor\":\"white\",\"linecolor\":\"white\",\"ticks\":\"\"},\"baxis\":{\"gridcolor\":\"white\",\"linecolor\":\"white\",\"ticks\":\"\"},\"caxis\":{\"gridcolor\":\"white\",\"linecolor\":\"white\",\"ticks\":\"\"}},\"coloraxis\":{\"colorbar\":{\"outlinewidth\":0,\"ticks\":\"\"}},\"colorscale\":{\"sequential\":[[0.0,\"#0d0887\"],[0.1111111111111111,\"#46039f\"],[0.2222222222222222,\"#7201a8\"],[0.3333333333333333,\"#9c179e\"],[0.4444444444444444,\"#bd3786\"],[0.5555555555555556,\"#d8576b\"],[0.6666666666666666,\"#ed7953\"],[0.7777777777777778,\"#fb9f3a\"],[0.8888888888888888,\"#fdca26\"],[1.0,\"#f0f921\"]],\"sequentialminus\":[[0.0,\"#0d0887\"],[0.1111111111111111,\"#46039f\"],[0.2222222222222222,\"#7201a8\"],[0.3333333333333333,\"#9c179e\"],[0.4444444444444444,\"#bd3786\"],[0.5555555555555556,\"#d8576b\"],[0.6666666666666666,\"#ed7953\"],[0.7777777777777778,\"#fb9f3a\"],[0.8888888888888888,\"#fdca26\"],[1.0,\"#f0f921\"]],\"diverging\":[[0,\"#8e0152\"],[0.1,\"#c51b7d\"],[0.2,\"#de77ae\"],[0.3,\"#f1b6da\"],[0.4,\"#fde0ef\"],[0.5,\"#f7f7f7\"],[0.6,\"#e6f5d0\"],[0.7,\"#b8e186\"],[0.8,\"#7fbc41\"],[0.9,\"#4d9221\"],[1,\"#276419\"]]},\"xaxis\":{\"gridcolor\":\"white\",\"linecolor\":\"white\",\"ticks\":\"\",\"title\":{\"standoff\":15},\"zerolinecolor\":\"white\",\"automargin\":true,\"zerolinewidth\":2},\"yaxis\":{\"gridcolor\":\"white\",\"linecolor\":\"white\",\"ticks\":\"\",\"title\":{\"standoff\":15},\"zerolinecolor\":\"white\",\"automargin\":true,\"zerolinewidth\":2},\"scene\":{\"xaxis\":{\"backgroundcolor\":\"#E5ECF6\",\"gridcolor\":\"white\",\"linecolor\":\"white\",\"showbackground\":true,\"ticks\":\"\",\"zerolinecolor\":\"white\",\"gridwidth\":2},\"yaxis\":{\"backgroundcolor\":\"#E5ECF6\",\"gridcolor\":\"white\",\"linecolor\":\"white\",\"showbackground\":true,\"ticks\":\"\",\"zerolinecolor\":\"white\",\"gridwidth\":2},\"zaxis\":{\"backgroundcolor\":\"#E5ECF6\",\"gridcolor\":\"white\",\"linecolor\":\"white\",\"showbackground\":true,\"ticks\":\"\",\"zerolinecolor\":\"white\",\"gridwidth\":2}},\"shapedefaults\":{\"line\":{\"color\":\"#2a3f5f\"}},\"annotationdefaults\":{\"arrowcolor\":\"#2a3f5f\",\"arrowhead\":0,\"arrowwidth\":1},\"geo\":{\"bgcolor\":\"white\",\"landcolor\":\"#E5ECF6\",\"subunitcolor\":\"white\",\"showland\":true,\"showlakes\":true,\"lakecolor\":\"white\"},\"title\":{\"x\":0.05},\"mapbox\":{\"style\":\"light\"}}},\"xaxis\":{\"title\":{\"text\":\"Class Name (total number of class elements)\"},\"tickmode\":\"array\",\"tickvals\":[0,1,2,3,4,5,6,7,8],\"ticktext\":[\"all_classes\\u003cbr\\u003e(4793)\",\"0.0003\\u003cbr\\u003e(1281)\",\"0.001\\u003cbr\\u003e(755)\",\"0.003\\u003cbr\\u003e(457)\",\"0.01\\u003cbr\\u003e(423)\",\"0.03\\u003cbr\\u003e(466)\",\"0.1\\u003cbr\\u003e(450)\",\"0.3\\u003cbr\\u003e(471)\",\"1.0\\u003cbr\\u003e(490)\"],\"tickangle\":-45},\"yaxis\":{\"title\":{\"text\":\"FID Score\"}},\"boxmode\":\"group\",\"title\":{\"text\":\"Intra-class FID score\"},\"height\":700},                        {\"responsive\": true}                    ).then(function(){\n",
       "                            \n",
       "var gd = document.getElementById('882ff9a0-b415-434b-8f86-6dc113edfcfe');\n",
       "var x = new MutationObserver(function (mutations, observer) {{\n",
       "        var display = window.getComputedStyle(gd).display;\n",
       "        if (!display || display === 'none') {{\n",
       "            console.log([gd, 'removed!']);\n",
       "            Plotly.purge(gd);\n",
       "            observer.disconnect();\n",
       "        }}\n",
       "}});\n",
       "\n",
       "// Listen for the removal of the full notebook cells\n",
       "var notebookContainer = gd.closest('#notebook-container');\n",
       "if (notebookContainer) {{\n",
       "    x.observe(notebookContainer, {childList: true});\n",
       "}}\n",
       "\n",
       "// Listen for the clearing of the current output cell\n",
       "var outputEl = gd.closest('.output');\n",
       "if (outputEl) {{\n",
       "    x.observe(outputEl, {childList: true});\n",
       "}}\n",
       "\n",
       "                        })                };                });            </script>        </div>"
      ]
     },
     "metadata": {},
     "output_type": "display_data"
    }
   ],
   "source": [
    "fig = go.Figure()\n",
    "\n",
    "# train\n",
    "corresp_x_values = []\n",
    "y_vals = []\n",
    "for cl_name in class_names:\n",
    "    corresp_x_values += [cl_name] * nb_repeats\n",
    "    y_vals += fid_scores_by_class_train[cl_name]\n",
    "fig.add_trace(\n",
    "    go.Box(\n",
    "        y=y_vals,\n",
    "        x=corresp_x_values,\n",
    "        name=\"train vs train\",\n",
    "    )\n",
    ")\n",
    "\n",
    "# gen\n",
    "corresp_x_values = list(fid_scores_by_class_gen.keys())\n",
    "y_vals = [fid_scores_by_class_gen[cl_name][\"frechet_inception_distance\"] for cl_name in corresp_x_values]\n",
    "fig.add_trace(\n",
    "    go.Box(\n",
    "        y=y_vals,\n",
    "        x=corresp_x_values,\n",
    "        name=\"gen vs train\",\n",
    "    )\n",
    ")\n",
    "\n",
    "fig.update_layout(\n",
    "    yaxis_title=\"FID Score\",\n",
    "    boxmode=\"group\",\n",
    "    xaxis_title=\"Class Name (total number of class elements)\",\n",
    "    title=\"Intra-class FID score\",\n",
    "    xaxis=dict(\n",
    "        tickmode=\"array\",\n",
    "        tickvals=list(range(len(class_names))),\n",
    "        ticktext=[f\"{class_name}<br>({nb_elems_per_class[class_name]})\" for class_name in class_names],\n",
    "        tickangle=-45,\n",
    "    ),\n",
    "    height=700,\n",
    ")\n",
    "fig.show()"
   ]
  }
 ],
 "metadata": {
  "kernelspec": {
   "display_name": "Python 3",
   "language": "python",
   "name": "python3"
  },
  "language_info": {
   "codemirror_mode": {
    "name": "ipython",
    "version": 3
   },
   "file_extension": ".py",
   "mimetype": "text/x-python",
   "name": "python",
   "nbconvert_exporter": "python",
   "pygments_lexer": "ipython3",
   "version": "3.12.5"
  }
 },
 "nbformat": 4,
 "nbformat_minor": 2
}
